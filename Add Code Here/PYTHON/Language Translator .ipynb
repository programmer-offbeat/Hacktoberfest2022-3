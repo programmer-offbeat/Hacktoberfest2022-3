{
 "cells": [
  {
   "cell_type": "markdown",
   "id": "a0115293",
   "metadata": {},
   "source": [
    "## Importing the necessary libraries"
   ]
  },
  {
   "cell_type": "code",
   "execution_count": 1,
   "id": "1de1aaae",
   "metadata": {},
   "outputs": [],
   "source": [
    "from tkinter import *\n",
    "import googletrans\n",
    "import textblob\n",
    "from tkinter import ttk, messagebox"
   ]
  },
  {
   "cell_type": "markdown",
   "id": "6a1d3d7f",
   "metadata": {},
   "source": [
    "## Create the main window"
   ]
  },
  {
   "cell_type": "code",
   "execution_count": 2,
   "id": "f6479266",
   "metadata": {},
   "outputs": [],
   "source": [
    "root = Tk()\n",
    "root.title('Language Translator')\n",
    "root.geometry('870x320')\n",
    "root.configure(bg='#C4DFDF')"
   ]
  },
  {
   "cell_type": "markdown",
   "id": "347b0882",
   "metadata": {},
   "source": [
    "## Adding colors to the GUI"
   ]
  },
  {
   "cell_type": "code",
   "execution_count": 3,
   "id": "b08ae4a1",
   "metadata": {},
   "outputs": [],
   "source": [
    "primary_color = 'black'\n",
    "secondary_color = '#E3F4F4'"
   ]
  },
  {
   "cell_type": "markdown",
   "id": "6a8bb0a3",
   "metadata": {},
   "source": [
    "## Translate fucntion to translate the text and display the translated function"
   ]
  },
  {
   "cell_type": "code",
   "execution_count": 4,
   "id": "340d3af9",
   "metadata": {},
   "outputs": [],
   "source": [
    "def translate():\n",
    "    translated_text.delete(1.0, END)\n",
    "\n",
    "    try:\n",
    "        original_lang = original_combo.get()\n",
    "        translated_lang = translate_combo.get()\n",
    "\n",
    "        words = textblob.TextBlob(original_text.get(1.0, END))\n",
    "\n",
    "        words = words.translate(from_lang=original_lang, to=translated_lang)\n",
    "\n",
    "        translated_text.insert(1.0, words)\n",
    "\n",
    "    except Exception as e:\n",
    "        messagebox.showerror(\"Translator\", e)\n"
   ]
  },
  {
   "cell_type": "markdown",
   "id": "4e331383",
   "metadata": {},
   "source": [
    "## Interchange fucntion to interchange the langugaes easily "
   ]
  },
  {
   "cell_type": "code",
   "execution_count": 5,
   "id": "66632d16",
   "metadata": {},
   "outputs": [],
   "source": [
    "def interchange():  \n",
    "    original_value = original_combo.get()\n",
    "    translate_value = translate_combo.get()\n",
    "\n",
    "    original_combo.set(translate_value)\n",
    "    translate_combo.set(original_value)\n",
    "\n",
    "    original_text_value = original_text.get(1.0,END)\n",
    "    translated_text_value = translated_text.get(1.0,END)\n",
    "\n",
    "    original_text.delete(1.0,END)   \n",
    "    translated_text.delete(1.0,END)\n",
    "\n",
    "    original_text.insert(1.0, translated_text_value)\n",
    "    translated_text.insert(1.0, original_text)"
   ]
  },
  {
   "cell_type": "markdown",
   "id": "13fc2bfc",
   "metadata": {},
   "source": [
    "## Clear function to clear the text with a single click"
   ]
  },
  {
   "cell_type": "code",
   "execution_count": 6,
   "id": "6651d40e",
   "metadata": {},
   "outputs": [],
   "source": [
    "def clear():\n",
    "    original_text.delete(1.0,END)\n",
    "    translated_text.delete(1.0,END)"
   ]
  },
  {
   "cell_type": "code",
   "execution_count": 7,
   "id": "adceb80d",
   "metadata": {},
   "outputs": [],
   "source": [
    "languages = googletrans.LANGUAGES\n",
    "language = ['te', 'en']"
   ]
  },
  {
   "cell_type": "markdown",
   "id": "3d1ea29b",
   "metadata": {},
   "source": [
    "## Create a frame for the original text"
   ]
  },
  {
   "cell_type": "code",
   "execution_count": 8,
   "id": "cb983d37",
   "metadata": {},
   "outputs": [],
   "source": [
    "original_text = Text(root, height = 10, width = 40)\n",
    "original_text.grid(row = 0, column = 0, padx = 10, pady = 20)"
   ]
  },
  {
   "cell_type": "markdown",
   "id": "7acbb7d4",
   "metadata": {},
   "source": [
    "## Translate Button for calling the translate function"
   ]
  },
  {
   "cell_type": "code",
   "execution_count": 9,
   "id": "3ff12f68",
   "metadata": {},
   "outputs": [],
   "source": [
    "translate_button = Button(root,text='Translate', font=(\"Times New Roman\",24),command=translate,bg=secondary_color, fg=primary_color)\n",
    "translate_button.grid(row=0,column=1,padx=5)"
   ]
  },
  {
   "cell_type": "markdown",
   "id": "fa59581e",
   "metadata": {},
   "source": [
    "## Interchange button for calling the interchange function"
   ]
  },
  {
   "cell_type": "code",
   "execution_count": 10,
   "id": "b6c29fd8",
   "metadata": {},
   "outputs": [],
   "source": [
    "interchange_button = Button(root,text=\"< -- >\",font=(\"Times New Roman\",12),command=interchange,bg=secondary_color, fg=primary_color)\n",
    "interchange_button.grid(row=1,column=1,padx=10)"
   ]
  },
  {
   "cell_type": "markdown",
   "id": "196854d6",
   "metadata": {},
   "source": [
    "## Create a frame for the translation text"
   ]
  },
  {
   "cell_type": "code",
   "execution_count": 11,
   "id": "572eb1af",
   "metadata": {},
   "outputs": [],
   "source": [
    "translated_text = Text(root, height=10, width=40)\n",
    "translated_text.grid(row=0,column=2,padx=10,pady=20)"
   ]
  },
  {
   "cell_type": "markdown",
   "id": "51e108b7",
   "metadata": {},
   "source": [
    "## Create a combo for drop-down to select the languages"
   ]
  },
  {
   "cell_type": "code",
   "execution_count": 12,
   "id": "2d6066b4",
   "metadata": {
    "scrolled": true
   },
   "outputs": [],
   "source": [
    "original_combo = ttk.Combobox(root, width=50, value=['en', 'te'])\n",
    "original_combo.current(0)\n",
    "original_combo.grid(row=1, column=0)\n",
    "\n",
    "translate_combo = ttk.Combobox(root, width=50, value=['en', 'te'])\n",
    "translate_combo.current(1)\n",
    "translate_combo.grid(row=1, column=2)"
   ]
  },
  {
   "cell_type": "markdown",
   "id": "fdf8adb5",
   "metadata": {},
   "source": [
    "## Create a clear button for clearing the text"
   ]
  },
  {
   "cell_type": "code",
   "execution_count": 13,
   "id": "6c1013d0",
   "metadata": {},
   "outputs": [],
   "source": [
    "clear_text = Button(root,text=\"Clear\",font=(\"Times New Roman\",16),command=clear,bg=secondary_color, fg=primary_color)\n",
    "clear_text.grid(row=3,column=1, padx=15)"
   ]
  },
  {
   "cell_type": "markdown",
   "id": "6ee11e23",
   "metadata": {},
   "source": []
  },
  {
   "cell_type": "code",
   "execution_count": 14,
   "id": "73ac96d2",
   "metadata": {},
   "outputs": [],
   "source": [
    "root.mainloop()"
   ]
  },
  {
   "cell_type": "code",
   "execution_count": null,
   "id": "23a61b87",
   "metadata": {},
   "outputs": [],
   "source": []
  }
 ],
 "metadata": {
  "kernelspec": {
   "display_name": "Python 3 (ipykernel)",
   "language": "python",
   "name": "python3"
  },
  "language_info": {
   "codemirror_mode": {
    "name": "ipython",
    "version": 3
   },
   "file_extension": ".py",
   "mimetype": "text/x-python",
   "name": "python",
   "nbconvert_exporter": "python",
   "pygments_lexer": "ipython3",
   "version": "3.11.4"
  }
 },
 "nbformat": 4,
 "nbformat_minor": 5
}
